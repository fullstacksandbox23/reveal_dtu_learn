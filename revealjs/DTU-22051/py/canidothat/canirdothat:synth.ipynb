{
 "cells": [
  {
   "cell_type": "markdown",
   "id": "43e466ba",
   "metadata": {},
   "source": [
    "#  A cool SYNTH - bits, pieces and some demos\n",
    "\n",
    "## Components\n",
    "\n",
    "### Signal generators\n",
    "\n",
    "#### SINE (freq)\n",
    "\n",
    "#### NOISE (white)\n",
    "\n",
    "#### RECT (period, duty cycle)\n",
    "#### SAWTOOTH (width)\n",
    "#### TRIANGLE (width)\n",
    "\n",
    "\n",
    "### Envelopes\n",
    "\n",
    "#### ADSR (attack delay sustain release)\n",
    "\n",
    "### Filters\n",
    "\n",
    "#### LP / HP / BP / BN - ORDER [IIR?]\n",
    "\n",
    "### LFO (low frequency oscillation)"
   ]
  },
  {
   "cell_type": "code",
   "execution_count": 168,
   "id": "a0981726",
   "metadata": {},
   "outputs": [],
   "source": [
    "# Import relevant packages\n",
    "import numpy as np\n",
    "import scipy.signal as signal\n",
    "import matplotlib.pylab as plt\n",
    "from scipy.io.wavfile import write\n",
    "\n",
    "# And some parameters\n",
    "fs = 44100\n",
    "T = 5\n"
   ]
  },
  {
   "cell_type": "code",
   "execution_count": null,
   "id": "7a86f6c0",
   "metadata": {},
   "outputs": [],
   "source": [
    "# Some function definitions\n",
    "\n",
    "def sine(f, T, fs):\n",
    "    s = np.sin(2*f*np.pi*np.arange(1/fs,T, 1/fs))\n",
    "    return s\n",
    "\n",
    "def rect(duty, per, T, fs):\n",
    "    r = np.zeros(T*fs)\n",
    "    idx_increment = per*fs\n",
    "    idx_on = 0\n",
    "    while idx_on < T*fs:\n",
    "        r[idx_on:idx_on+int((duty*idx_increment))-1] = 1\n",
    "        idx_on += int(idx_increment)\n",
    "    return r\n",
    "\n",
    "def sawtooth(per, T, fs):\n",
    "    s = np.zeros(T*fs)\n",
    "    idx_increment = int(per*fs)\n",
    "    idx_start = 0\n",
    "    idx_half_increment = int(idx_increment/2)\n",
    "    while idx_start < T*fs:\n",
    "        #idx_start = int(np.ceil(idx_on))\n",
    "        idx_half = int(np.floor(idx_start+idx_half_increment))\n",
    "        idx_stop = int(np.floor(idx_start + idx_increment))\n",
    "\n",
    "        #print(idx_start)\n",
    "        #print(idx_half)\n",
    "        #print(idx_stop)\n",
    "        print(idx_stop-idx_start)\n",
    "\n",
    "        s[idx_start:idx_half] = np.arange(0,idx_half-idx_start)/idx_half_increment\n",
    "        s[idx_half+1:idx_stop] = np.arange(0, idx_stop-(idx_half+1))/idx_half_increment\n",
    "        \n",
    "        idx_start += idx_stop+1\n",
    "        #print(idx_on)\n",
    "    return s\n",
    "\n",
    "\n",
    "def triangle(per, T, fs):\n",
    "    t = np.zeros(T*fs)\n",
    "    idx_increment = int(np.floor((per*fs)))\n",
    "    idx_on = 0\n",
    "    while idx_on < T*fs:\n",
    "        t[idx_on:idx_on+idx_increment] = np.arange(0,idx_increment)/idx_increment\n",
    "        idx_on += int(idx_increment)\n",
    "        print(idx_on)\n",
    "    return t\n",
    "\n",
    "\n",
    "# Helper function for wav export\n",
    "def normalize4wav(sig):\n",
    "    amplitude = np.iinfo(np.int16).max\n",
    "    sig = sig/np.max(sig)*amplitude\n",
    "    return sig\n"
   ]
  },
  {
   "cell_type": "code",
   "execution_count": 170,
   "id": "1414bb50",
   "metadata": {},
   "outputs": [
    {
     "name": "stdout",
     "output_type": "stream",
     "text": [
      "44\n",
      "44\n",
      "44\n",
      "44\n",
      "44\n",
      "44\n",
      "44\n",
      "44\n",
      "44\n",
      "44\n",
      "44\n",
      "44\n",
      "44\n"
     ]
    },
    {
     "data": {
      "image/png": "[encoded data removed]",
      "text/plain": [
       "<Figure size 640x480 with 1 Axes>"
      ]
     },
     "metadata": {},
     "output_type": "display_data"
    }
   ],
   "source": [
    "# some debugging\n",
    "\n",
    "\n",
    "#sine_freq = 5\n",
    "#s = sine(sine_freq, T, fs)\n",
    "#plt.plot(s)\n",
    "\n",
    "\n",
    "#rect_duty = .1\n",
    "#rect_per = 10e-3\n",
    "#r = rect(rect_duty, rect_per, T, fs)\n",
    "#r_scale = normalize4wav(r)\n",
    "#plt.plot(r)\n",
    "#fname = ('../../wav/rect_duty' + str(rect_duty) + '_rect_per' + str(rect_per) + '.wav')\n",
    "#write(fname, fs, np.int16(r_scale))\n",
    "\n",
    "\n",
    "# sawtooth\n",
    "saw_per = 1e-3\n",
    "saw = sawtooth(saw_per, T, fs)\n",
    "saw_scale = normalize4wav(saw)\n",
    "plt.plot(saw)\n",
    "fname = ('../../wav/saw_per' + str(saw_per) + '.wav')\n",
    "write(fname, fs, np.int16(saw_scale))\n"
   ]
  }
 ],
 "metadata": {
  "kernelspec": {
   "display_name": "Python 3",
   "language": "python",
   "name": "python3"
  },
  "language_info": {
   "codemirror_mode": {
    "name": "ipython",
    "version": 3
   },
   "file_extension": ".py",
   "mimetype": "text/x-python",
   "name": "python",
   "nbconvert_exporter": "python",
   "pygments_lexer": "ipython3",
   "version": "3.11.2"
  }
 },
 "nbformat": 4,
 "nbformat_minor": 5
}
