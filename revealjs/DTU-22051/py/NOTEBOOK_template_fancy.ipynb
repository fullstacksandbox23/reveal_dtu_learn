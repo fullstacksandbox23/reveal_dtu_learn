{
 "cells": [
  {
   "cell_type": "code",
   "execution_count": null,
   "id": "08f48610",
   "metadata": {},
   "outputs": [],
   "source": [
    "# NOTE: Make sure you add the required packages\n",
    "# \n",
    "#>> pip install ipywidgets\n",
    "#>> jupyter nbextension enable --py widgetsnbextension\n",
    "\n",
    "\n",
    "# 📦 Imports\n",
    "import numpy as np\n",
    "import matplotlib.pyplot as plt\n",
    "from ipywidgets import interact, FloatSlider, IntSlider\n",
    "\n",
    "# 📊 Interactive Plot Function\n",
    "def plot_sinusoid(frequency=5, amplitude=1.0, duration=2, sampling_rate=1000, noise_std=0.3):\n",
    "    t = np.linspace(0, duration, int(sampling_rate * duration), endpoint=False)\n",
    "    clean_signal = amplitude * np.sin(2 * np.pi * frequency * t)\n",
    "    noise = np.random.normal(0, noise_std, size=t.shape)\n",
    "    noisy_signal = clean_signal + noise\n",
    "\n",
    "    plt.figure(figsize=(10, 5))\n",
    "    plt.plot(t, clean_signal, label='Clean Signal')\n",
    "    plt.plot(t, noisy_signal, label='Noisy Signal', alpha=0.7)\n",
    "    plt.title('Interactive Sinusoidal Signal with Noise')\n",
    "    plt.xlabel('Time [s]')\n",
    "    plt.ylabel('Amplitude')\n",
    "    plt.legend()\n",
    "    plt.grid(True)\n",
    "    plt.tight_layout()\n",
    "    plt.show()\n",
    "\n",
    "# 🧩 Interactive Widgets\n",
    "interact(\n",
    "    plot_sinusoid,\n",
    "    frequency=FloatSlider(value=5, min=1, max=20, step=0.5, description='Frequency (Hz)'),\n",
    "    amplitude=FloatSlider(value=1.0, min=0.1, max=5.0, step=0.1, description='Amplitude'),\n",
    "    duration=FloatSlider(value=2, min=0.5, max=5.0, step=0.1, description='Duration (s)'),\n",
    "    sampling_rate=IntSlider(value=1000, min=100, max=5000, step=100, description='Sampling Rate'),\n",
    "    noise_std=FloatSlider(value=0.3, min=0.0, max=1.0, step=0.05, description='Noise Std Dev')\n",
    ")\n"
   ]
  }
 ],
 "metadata": {
  "language_info": {
   "name": "python"
  }
 },
 "nbformat": 4,
 "nbformat_minor": 5
}
