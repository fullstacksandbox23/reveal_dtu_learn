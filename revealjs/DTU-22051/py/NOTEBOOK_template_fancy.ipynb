{
 "cells": [
  {
   "cell_type": "markdown",
   "id": "79455ace",
   "metadata": {},
   "source": [
    "# NOTE: Make sure you add the required packages\n",
    " \n",
    ">> pip install ipywidgets\n",
    ">> jupyter nbextension enable --py widgetsnbextension\n",
    "\n"
   ]
  },
  {
   "cell_type": "markdown",
   "id": "dfd3b624",
   "metadata": {},
   "source": [
    "# 📦 Imports"
   ]
  },
  {
   "cell_type": "code",
   "execution_count": 2,
   "id": "c6fc14b9",
   "metadata": {},
   "outputs": [
    {
     "ename": "ModuleNotFoundError",
     "evalue": "No module named 'ipywidgets'",
     "output_type": "error",
     "traceback": [
      "\u001b[0;31m---------------------------------------------------------------------------\u001b[0m",
      "\u001b[0;31mModuleNotFoundError\u001b[0m                       Traceback (most recent call last)",
      "Cell \u001b[0;32mIn [2], line 3\u001b[0m\n\u001b[1;32m      1\u001b[0m \u001b[38;5;28;01mimport\u001b[39;00m \u001b[38;5;21;01mnumpy\u001b[39;00m \u001b[38;5;28;01mas\u001b[39;00m \u001b[38;5;21;01mnp\u001b[39;00m\n\u001b[1;32m      2\u001b[0m \u001b[38;5;28;01mimport\u001b[39;00m \u001b[38;5;21;01mmatplotlib\u001b[39;00m\u001b[38;5;21;01m.\u001b[39;00m\u001b[38;5;21;01mpyplot\u001b[39;00m \u001b[38;5;28;01mas\u001b[39;00m \u001b[38;5;21;01mplt\u001b[39;00m\n\u001b[0;32m----> 3\u001b[0m \u001b[38;5;28;01mfrom\u001b[39;00m \u001b[38;5;21;01mipywidgets\u001b[39;00m \u001b[38;5;28;01mimport\u001b[39;00m interact, FloatSlider, IntSlider\n",
      "\u001b[0;31mModuleNotFoundError\u001b[0m: No module named 'ipywidgets'"
     ]
    }
   ],
   "source": [
    "import numpy as np\n",
    "import matplotlib.pyplot as plt\n",
    "from ipywidgets import interact, FloatSlider, IntSlider"
   ]
  },
  {
   "cell_type": "markdown",
   "id": "b5172d48",
   "metadata": {},
   "source": [
    "# 📊 Interactive Plot Function"
   ]
  },
  {
   "cell_type": "code",
   "execution_count": null,
   "id": "08f48610",
   "metadata": {},
   "outputs": [],
   "source": [
    "def plot_sinusoid(frequency=5, amplitude=1.0, duration=2, sampling_rate=1000, noise_std=0.3):\n",
    "    t = np.linspace(0, duration, int(sampling_rate * duration), endpoint=False)\n",
    "    clean_signal = amplitude * np.sin(2 * np.pi * frequency * t)\n",
    "    noise = np.random.normal(0, noise_std, size=t.shape)\n",
    "    noisy_signal = clean_signal + noise\n",
    "\n",
    "    plt.figure(figsize=(10, 5))\n",
    "    plt.plot(t, clean_signal, label='Clean Signal')\n",
    "    plt.plot(t, noisy_signal, label='Noisy Signal', alpha=0.7)\n",
    "    plt.title('Interactive Sinusoidal Signal with Noise')\n",
    "    plt.xlabel('Time [s]')\n",
    "    plt.ylabel('Amplitude')\n",
    "    plt.legend()\n",
    "    plt.grid(True)\n",
    "    plt.tight_layout()\n",
    "    plt.show()\n"
   ]
  },
  {
   "cell_type": "markdown",
   "id": "964130f1",
   "metadata": {},
   "source": [
    "# 🧩 Interactive Widgets"
   ]
  },
  {
   "cell_type": "code",
   "execution_count": null,
   "id": "1aacb785",
   "metadata": {},
   "outputs": [],
   "source": [
    "interact(\n",
    "    plot_sinusoid,\n",
    "    frequency=FloatSlider(value=5, min=1, max=20, step=0.5, description='Frequency (Hz)'),\n",
    "    amplitude=FloatSlider(value=1.0, min=0.1, max=5.0, step=0.1, description='Amplitude'),\n",
    "    duration=FloatSlider(value=2, min=0.5, max=5.0, step=0.1, description='Duration (s)'),\n",
    "    sampling_rate=IntSlider(value=1000, min=100, max=5000, step=100, description='Sampling Rate'),\n",
    "    noise_std=FloatSlider(value=0.3, min=0.0, max=1.0, step=0.05, description='Noise Std Dev')\n",
    ")\n"
   ]
  }
 ],
 "metadata": {
  "kernelspec": {
   "display_name": "Python 3",
   "language": "python",
   "name": "python3"
  },
  "language_info": {
   "codemirror_mode": {
    "name": "ipython",
    "version": 3
   },
   "file_extension": ".py",
   "mimetype": "text/x-python",
   "name": "python",
   "nbconvert_exporter": "python",
   "pygments_lexer": "ipython3",
   "version": "3.11.2"
  }
 },
 "nbformat": 4,
 "nbformat_minor": 5
}
